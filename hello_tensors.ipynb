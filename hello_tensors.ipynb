{
 "cells": [
  {
   "cell_type": "markdown",
   "metadata": {},
   "source": [
    "# Hello Tensors"
   ]
  },
  {
   "cell_type": "code",
   "execution_count": 1,
   "metadata": {},
   "outputs": [],
   "source": [
    "# Prerequisites\n",
    "import numpy as np"
   ]
  },
  {
   "cell_type": "markdown",
   "metadata": {},
   "source": [
    "### Rank-0 Tensors (Scalars)"
   ]
  },
  {
   "cell_type": "code",
   "execution_count": 2,
   "metadata": {},
   "outputs": [
    {
     "name": "stdout",
     "output_type": "stream",
     "text": [
      "Tensor:  12\n",
      "The type of tensor:  <class 'numpy.ndarray'>\n",
      "The rank of tensor:  0\n",
      "The shape of tensor:  ()\n",
      "The data type of tensor:  int64\n"
     ]
    }
   ],
   "source": [
    "x = np.array(12)\n",
    "print(\"Tensor: \", x)\n",
    "print(\"The type of tensor: \", type(x))\n",
    "print(\"The rank of tensor: \", x.ndim)\n",
    "print(\"The shape of tensor: \", x.shape)\n",
    "print(\"The data type of tensor: \", x.dtype)"
   ]
  },
  {
   "cell_type": "markdown",
   "metadata": {},
   "source": [
    "### Rank-1 Tensors (Vectors)"
   ]
  },
  {
   "cell_type": "code",
   "execution_count": 3,
   "metadata": {},
   "outputs": [
    {
     "name": "stdout",
     "output_type": "stream",
     "text": [
      "Tensor:  [ 1  2  7 14 25]\n",
      "The type of tensor:  <class 'numpy.ndarray'>\n",
      "The rank of tensor:  1\n",
      "The shape of tensor:  (5,)\n",
      "The data type of tensor:  int64\n"
     ]
    }
   ],
   "source": [
    "x = np.array([1, 2, 7, 14, 25])\n",
    "print(\"Tensor: \", x)\n",
    "print(\"The type of tensor: \", type(x))\n",
    "print(\"The rank of tensor: \", x.ndim)\n",
    "print(\"The shape of tensor: \", x.shape)\n",
    "print(\"The data type of tensor: \", x.dtype)"
   ]
  },
  {
   "cell_type": "markdown",
   "metadata": {},
   "source": [
    "### Rank-2 Tensors (Matrices)"
   ]
  },
  {
   "cell_type": "code",
   "execution_count": 4,
   "metadata": {},
   "outputs": [
    {
     "name": "stdout",
     "output_type": "stream",
     "text": [
      "Tensor:\n",
      " [[ 5. 78.  6. 34. 10.]\n",
      " [ 6. 79.  7. 35. 11.]\n",
      " [ 7. 80.  8. 36. 12.]]\n",
      "The type of tensor:  <class 'numpy.ndarray'>\n",
      "The rank of tensor:  2\n",
      "The shape of tensor:  (3, 5)\n",
      "The data type of tensor:  float64\n"
     ]
    }
   ],
   "source": [
    "x = np.array([[5.0, 78, 6, 34, 10],\n",
    "              [6.0, 79, 7, 35, 11],\n",
    "              [7.0, 80, 8, 36, 12]])\n",
    "print(\"Tensor:\\n\", x)\n",
    "print(\"The type of tensor: \", type(x))\n",
    "print(\"The rank of tensor: \", x.ndim)\n",
    "print(\"The shape of tensor: \", x.shape)\n",
    "print(\"The data type of tensor: \", x.dtype)"
   ]
  },
  {
   "cell_type": "markdown",
   "metadata": {},
   "source": [
    "### Rank-3 and higher order Tensors"
   ]
  },
  {
   "cell_type": "code",
   "execution_count": 5,
   "metadata": {},
   "outputs": [
    {
     "name": "stdout",
     "output_type": "stream",
     "text": [
      "Tensor:\n",
      " [[[ 5 78  6 34 10]\n",
      "  [ 6 79  7 35 11]\n",
      "  [ 7 80  8 36 12]]\n",
      "\n",
      " [[ 5 78  6 34 10]\n",
      "  [ 6 79  7 35 11]\n",
      "  [ 7 80  8 36 12]]\n",
      "\n",
      " [[ 5 78  6 34 10]\n",
      "  [ 6 79  7 35 11]\n",
      "  [ 7 80  8 36 12]]]\n",
      "The type of tensor:  <class 'numpy.ndarray'>\n",
      "The rank of tensor:  3\n",
      "The shape of tensor:  (3, 3, 5)\n",
      "The data type of tensor:  int64\n"
     ]
    }
   ],
   "source": [
    "x = np.array([[[5, 78, 6, 34, 10],\n",
    "              [6, 79, 7, 35, 11],\n",
    "              [7, 80, 8, 36, 12]],\n",
    "             [[5, 78, 6, 34, 10],\n",
    "              [6, 79, 7, 35, 11],\n",
    "              [7, 80, 8, 36, 12]],\n",
    "             [[5, 78, 6, 34, 10],\n",
    "              [6, 79, 7, 35, 11],\n",
    "              [7, 80, 8, 36, 12]]])\n",
    "print(\"Tensor:\\n\", x)\n",
    "print(\"The type of tensor: \", type(x))\n",
    "print(\"The rank of tensor: \", x.ndim)\n",
    "print(\"The shape of tensor: \", x.shape)\n",
    "print(\"The data type of tensor: \", x.dtype)"
   ]
  },
  {
   "cell_type": "markdown",
   "metadata": {},
   "source": [
    "### Tensor Reshaping"
   ]
  },
  {
   "cell_type": "code",
   "execution_count": 6,
   "metadata": {},
   "outputs": [
    {
     "name": "stdout",
     "output_type": "stream",
     "text": [
      "The shape of tensor:  (3, 2)\n"
     ]
    }
   ],
   "source": [
    "x = np.array([[0., 1.],\n",
    "                [2., 3.],\n",
    "                [4., 5.]])\n",
    "print(\"The shape of tensor: \", x.shape)"
   ]
  },
  {
   "cell_type": "code",
   "execution_count": 7,
   "metadata": {},
   "outputs": [
    {
     "name": "stdout",
     "output_type": "stream",
     "text": [
      "Tensor:\n",
      " [[0.]\n",
      " [1.]\n",
      " [2.]\n",
      " [3.]\n",
      " [4.]\n",
      " [5.]]\n",
      "The shape of tensor:  (6, 1)\n"
     ]
    }
   ],
   "source": [
    "# Reshape\n",
    "x = x.reshape(6, 1)\n",
    "print(\"Tensor:\\n\", x)\n",
    "print(\"The shape of tensor: \", x.shape)"
   ]
  },
  {
   "cell_type": "code",
   "execution_count": 8,
   "metadata": {},
   "outputs": [
    {
     "name": "stdout",
     "output_type": "stream",
     "text": [
      "Tensor:\n",
      " [[0. 1. 2.]\n",
      " [3. 4. 5.]]\n",
      "The shape of tensor:  (2, 3)\n"
     ]
    }
   ],
   "source": [
    "# Reshape\n",
    "x = x.reshape(2, 3)\n",
    "print(\"Tensor:\\n\", x)\n",
    "print(\"The shape of tensor: \", x.shape)"
   ]
  },
  {
   "cell_type": "markdown",
   "metadata": {},
   "source": [
    "### Transpose"
   ]
  },
  {
   "cell_type": "code",
   "execution_count": 10,
   "metadata": {},
   "outputs": [
    {
     "name": "stdout",
     "output_type": "stream",
     "text": [
      "The shape of tensor:  (40, 200)\n",
      "Shape after transpose:  (200, 40)\n"
     ]
    }
   ],
   "source": [
    "x = np.zeros((40, 200))\n",
    "print(\"The shape of tensor: \", x.shape)\n",
    "x = np.transpose(x)\n",
    "print(\"Shape after transpose: \", x.shape)\n"
   ]
  },
  {
   "cell_type": "code",
   "execution_count": null,
   "metadata": {},
   "outputs": [],
   "source": []
  }
 ],
 "metadata": {
  "kernelspec": {
   "display_name": ".venv",
   "language": "python",
   "name": "python3"
  },
  "language_info": {
   "codemirror_mode": {
    "name": "ipython",
    "version": 3
   },
   "file_extension": ".py",
   "mimetype": "text/x-python",
   "name": "python",
   "nbconvert_exporter": "python",
   "pygments_lexer": "ipython3",
   "version": "3.12.7"
  }
 },
 "nbformat": 4,
 "nbformat_minor": 2
}
