{
 "cells": [
  {
   "cell_type": "markdown",
   "metadata": {},
   "source": [
    "# Hello Tensors"
   ]
  },
  {
   "cell_type": "code",
   "execution_count": 7,
   "metadata": {},
   "outputs": [],
   "source": [
    "# Prerequisites\n",
    "import numpy as np\n",
    "import tensorflow as tf"
   ]
  },
  {
   "cell_type": "markdown",
   "metadata": {},
   "source": [
    "### Rank-0 Tensors (Scalars)"
   ]
  },
  {
   "cell_type": "code",
   "execution_count": 3,
   "metadata": {},
   "outputs": [
    {
     "name": "stdout",
     "output_type": "stream",
     "text": [
      "NumPy Tensor:  12\n",
      "The type of NumPy tensor:  <class 'numpy.ndarray'>\n",
      "The rank of NumPy tensor:  0\n",
      "The shape of NumPy tensor:  ()\n",
      "The data type of NumPy tensor:  int64\n",
      "\n",
      "TensorFlow Tensor:  tf.Tensor(42, shape=(), dtype=int32)\n",
      "The type of TensorFlow tensor:  <class 'tensorflow.python.framework.ops.EagerTensor'>\n",
      "The rank of TensorFlow tensor:  0\n",
      "The shape of TensorFlow tensor:  ()\n",
      "The data type of TensorFlow tensor:  <dtype: 'int32'>\n"
     ]
    }
   ],
   "source": [
    "# NumPy\n",
    "x = np.array(12)\n",
    "print(\"NumPy Tensor: \", x)\n",
    "print(\"The type of NumPy tensor: \", type(x))\n",
    "print(\"The rank of NumPy tensor: \", x.ndim)\n",
    "print(\"The shape of NumPy tensor: \", x.shape)\n",
    "print(\"The data type of NumPy tensor: \", x.dtype)\n",
    "\n",
    "# TensorFlow\n",
    "t = tf.constant(42)\n",
    "print(\"\\nTensorFlow Tensor: \", t)\n",
    "print(\"The type of TensorFlow tensor: \", type(t))\n",
    "print(\"The rank of TensorFlow tensor: \", tf.rank(t).numpy())\n",
    "print(\"The shape of TensorFlow tensor: \", t.shape)\n",
    "print(\"The data type of TensorFlow tensor: \", t.dtype)\n"
   ]
  },
  {
   "cell_type": "markdown",
   "metadata": {},
   "source": [
    "### Rank-1 Tensors (Vectors)"
   ]
  },
  {
   "cell_type": "code",
   "execution_count": 4,
   "metadata": {},
   "outputs": [
    {
     "name": "stdout",
     "output_type": "stream",
     "text": [
      "NumPy Tensor:  [ 1  2  7 14 25]\n",
      "The type of NumPy tensor:  <class 'numpy.ndarray'>\n",
      "The rank of NumPy tensor:  1\n",
      "The shape of NumPy tensor:  (5,)\n",
      "The data type of NumPy tensor:  int64\n",
      "\n",
      "TensorFlow Tensor:  tf.Tensor([ 1  2  7 14 25], shape=(5,), dtype=int32)\n",
      "The type of TensorFlow tensor:  <class 'tensorflow.python.framework.ops.EagerTensor'>\n",
      "The rank of TensorFlow tensor:  1\n",
      "The shape of TensorFlow tensor:  (5,)\n",
      "The data type of TensorFlow tensor:  <dtype: 'int32'>\n"
     ]
    }
   ],
   "source": [
    "x = np.array([1, 2, 7, 14, 25])\n",
    "print(\"NumPy Tensor: \", x)\n",
    "print(\"The type of NumPy tensor: \", type(x))\n",
    "print(\"The rank of NumPy tensor: \", x.ndim)\n",
    "print(\"The shape of NumPy tensor: \", x.shape)\n",
    "print(\"The data type of NumPy tensor: \", x.dtype)\n",
    "\n",
    "# TensorFlow\n",
    "t = tf.constant([1, 2, 7, 14, 25])\n",
    "print(\"\\nTensorFlow Tensor: \", t)\n",
    "print(\"The type of TensorFlow tensor: \", type(t))\n",
    "print(\"The rank of TensorFlow tensor: \", tf.rank(t).numpy())\n",
    "print(\"The shape of TensorFlow tensor: \", t.shape)\n",
    "print(\"The data type of TensorFlow tensor: \", t.dtype)"
   ]
  },
  {
   "cell_type": "markdown",
   "metadata": {},
   "source": [
    "### Rank-2 Tensors (Matrices)"
   ]
  },
  {
   "cell_type": "code",
   "execution_count": 6,
   "metadata": {},
   "outputs": [
    {
     "name": "stdout",
     "output_type": "stream",
     "text": [
      "NumPy Tensor:  [[ 5. 78.  6. 34. 10.]\n",
      " [ 6. 79.  7. 35. 11.]\n",
      " [ 7. 80.  8. 36. 12.]]\n",
      "The type of NumPy tensor:  <class 'numpy.ndarray'>\n",
      "The rank of NumPy tensor:  2\n",
      "The shape of NumPy tensor:  (3, 5)\n",
      "The data type of NumPy tensor:  float64\n",
      "\n",
      "TensorFlow Tensor:  tf.Tensor(\n",
      "[[ 5. 78.  6. 34. 10.]\n",
      " [ 6. 79.  7. 35. 11.]\n",
      " [ 7. 80.  8. 36. 12.]], shape=(3, 5), dtype=float32)\n",
      "The type of TensorFlow tensor:  <class 'tensorflow.python.framework.ops.EagerTensor'>\n",
      "The rank of TensorFlow tensor:  2\n",
      "The shape of TensorFlow tensor:  (3, 5)\n",
      "The data type of TensorFlow tensor:  <dtype: 'float32'>\n"
     ]
    }
   ],
   "source": [
    "x = np.array([[5.0, 78, 6, 34, 10],\n",
    "              [6.0, 79, 7, 35, 11],\n",
    "              [7.0, 80, 8, 36, 12]])\n",
    "print(\"NumPy Tensor: \", x)\n",
    "print(\"The type of NumPy tensor: \", type(x))\n",
    "print(\"The rank of NumPy tensor: \", x.ndim)\n",
    "print(\"The shape of NumPy tensor: \", x.shape)\n",
    "print(\"The data type of NumPy tensor: \", x.dtype)\n",
    "\n",
    "# TensorFlow\n",
    "t = tf.constant([[5.0, 78, 6, 34, 10],\n",
    "                [6.0, 79, 7, 35, 11],\n",
    "                [7.0, 80, 8, 36, 12]])\n",
    "print(\"\\nTensorFlow Tensor: \", t)\n",
    "print(\"The type of TensorFlow tensor: \", type(t))\n",
    "print(\"The rank of TensorFlow tensor: \", tf.rank(t).numpy())\n",
    "print(\"The shape of TensorFlow tensor: \", t.shape)\n",
    "print(\"The data type of TensorFlow tensor: \", t.dtype)"
   ]
  },
  {
   "cell_type": "markdown",
   "metadata": {},
   "source": [
    "### Rank-3 and higher order Tensors"
   ]
  },
  {
   "cell_type": "code",
   "execution_count": 7,
   "metadata": {},
   "outputs": [
    {
     "name": "stdout",
     "output_type": "stream",
     "text": [
      "NumPy Tensor:  [[[ 5 78  6 34 10]\n",
      "  [ 6 79  7 35 11]\n",
      "  [ 7 80  8 36 12]]\n",
      "\n",
      " [[ 5 78  6 34 10]\n",
      "  [ 6 79  7 35 11]\n",
      "  [ 7 80  8 36 12]]\n",
      "\n",
      " [[ 5 78  6 34 10]\n",
      "  [ 6 79  7 35 11]\n",
      "  [ 7 80  8 36 12]]]\n",
      "The type of NumPy tensor:  <class 'numpy.ndarray'>\n",
      "The rank of NumPy tensor:  3\n",
      "The shape of NumPy tensor:  (3, 3, 5)\n",
      "The data type of NumPy tensor:  int64\n",
      "\n",
      "TensorFlow Tensor:  tf.Tensor(\n",
      "[[[1. 1. 1. 1. 1.]\n",
      "  [1. 1. 1. 1. 1.]\n",
      "  [1. 1. 1. 1. 1.]]\n",
      "\n",
      " [[1. 1. 1. 1. 1.]\n",
      "  [1. 1. 1. 1. 1.]\n",
      "  [1. 1. 1. 1. 1.]]\n",
      "\n",
      " [[1. 1. 1. 1. 1.]\n",
      "  [1. 1. 1. 1. 1.]\n",
      "  [1. 1. 1. 1. 1.]]], shape=(3, 3, 5), dtype=float32)\n",
      "The type of TensorFlow tensor:  <class 'tensorflow.python.framework.ops.EagerTensor'>\n",
      "The rank of TensorFlow tensor:  3\n",
      "The shape of TensorFlow tensor:  (3, 3, 5)\n",
      "The data type of TensorFlow tensor:  <dtype: 'float32'>\n"
     ]
    }
   ],
   "source": [
    "x = np.array([[[5, 78, 6, 34, 10],\n",
    "              [6, 79, 7, 35, 11],\n",
    "              [7, 80, 8, 36, 12]],\n",
    "             [[5, 78, 6, 34, 10],\n",
    "              [6, 79, 7, 35, 11],\n",
    "              [7, 80, 8, 36, 12]],\n",
    "             [[5, 78, 6, 34, 10],\n",
    "              [6, 79, 7, 35, 11],\n",
    "              [7, 80, 8, 36, 12]]])\n",
    "print(\"NumPy Tensor: \", x)\n",
    "print(\"The type of NumPy tensor: \", type(x))\n",
    "print(\"The rank of NumPy tensor: \", x.ndim)\n",
    "print(\"The shape of NumPy tensor: \", x.shape)\n",
    "print(\"The data type of NumPy tensor: \", x.dtype)\n",
    "\n",
    "# TensorFlow\n",
    "t = tf.ones(shape=(3, 3, 5))\n",
    "print(\"\\nTensorFlow Tensor: \", t)\n",
    "print(\"The type of TensorFlow tensor: \", type(t))\n",
    "print(\"The rank of TensorFlow tensor: \", tf.rank(t).numpy())\n",
    "print(\"The shape of TensorFlow tensor: \", t.shape)\n",
    "print(\"The data type of TensorFlow tensor: \", t.dtype)"
   ]
  },
  {
   "cell_type": "markdown",
   "metadata": {},
   "source": [
    "### NumPy Matirx/Tensor Reshaping"
   ]
  },
  {
   "cell_type": "code",
   "execution_count": 8,
   "metadata": {},
   "outputs": [
    {
     "name": "stdout",
     "output_type": "stream",
     "text": [
      "The shape of NumPy tensor:  (3, 2)\n"
     ]
    }
   ],
   "source": [
    "x = np.array([[0., 1.],\n",
    "                [2., 3.],\n",
    "                [4., 5.]])\n",
    "print(\"The shape of NumPy tensor: \", x.shape)"
   ]
  },
  {
   "cell_type": "code",
   "execution_count": 10,
   "metadata": {},
   "outputs": [
    {
     "name": "stdout",
     "output_type": "stream",
     "text": [
      "NumPy Tensor:\n",
      " [[0.]\n",
      " [1.]\n",
      " [2.]\n",
      " [3.]\n",
      " [4.]\n",
      " [5.]]\n",
      "The shape of NumPy tensor:  (6, 1)\n"
     ]
    }
   ],
   "source": [
    "# Reshape\n",
    "x = x.reshape(6, 1)\n",
    "print(\"NumPy Tensor:\\n\", x)\n",
    "print(\"The shape of NumPy tensor: \", x.shape)"
   ]
  },
  {
   "cell_type": "code",
   "execution_count": 11,
   "metadata": {},
   "outputs": [
    {
     "name": "stdout",
     "output_type": "stream",
     "text": [
      "NumPy Tensor:\n",
      " [[0. 1. 2.]\n",
      " [3. 4. 5.]]\n",
      "The shape of NumPy tensor:  (2, 3)\n"
     ]
    }
   ],
   "source": [
    "# Reshape\n",
    "x = x.reshape(2, 3)\n",
    "print(\"NumPy Tensor:\\n\", x)\n",
    "print(\"The shape of NumPy tensor: \", x.shape)"
   ]
  },
  {
   "cell_type": "code",
   "execution_count": 12,
   "metadata": {},
   "outputs": [
    {
     "name": "stdout",
     "output_type": "stream",
     "text": [
      "The shape of NumPy tensor:  (40, 200)\n",
      "Shape after transpose:  (200, 40)\n"
     ]
    }
   ],
   "source": [
    "x = np.zeros((40, 200))\n",
    "print(\"The shape of NumPy tensor: \", x.shape)\n",
    "x = np.transpose(x)\n",
    "print(\"Shape after transpose: \", x.shape)\n"
   ]
  },
  {
   "cell_type": "markdown",
   "metadata": {},
   "source": [
    "### TensorFlow Tensors are not assignable, use tf.variable() for assignments"
   ]
  },
  {
   "cell_type": "code",
   "execution_count": 13,
   "metadata": {},
   "outputs": [
    {
     "name": "stdout",
     "output_type": "stream",
     "text": [
      "<tf.Variable 'Variable:0' shape=(3, 1) dtype=float32, numpy=\n",
      "array([[-0.5439271],\n",
      "       [ 0.9365572],\n",
      "       [-1.5859779]], dtype=float32)>\n"
     ]
    }
   ],
   "source": [
    "v = tf.Variable(initial_value=tf.random.normal(shape=(3, 1)))\n",
    "print(v)"
   ]
  },
  {
   "cell_type": "code",
   "execution_count": 15,
   "metadata": {},
   "outputs": [
    {
     "name": "stdout",
     "output_type": "stream",
     "text": [
      "<tf.Variable 'Variable:0' shape=(3, 1) dtype=float32, numpy=\n",
      "array([[1.],\n",
      "       [1.],\n",
      "       [1.]], dtype=float32)>\n"
     ]
    }
   ],
   "source": [
    "# Assign to variable tensor\n",
    "v.assign(tf.ones((3,1)))\n",
    "print(v)"
   ]
  },
  {
   "cell_type": "code",
   "execution_count": 16,
   "metadata": {},
   "outputs": [
    {
     "name": "stdout",
     "output_type": "stream",
     "text": [
      "<tf.Variable 'Variable:0' shape=(3, 1) dtype=float32, numpy=\n",
      "array([[2.],\n",
      "       [1.],\n",
      "       [1.]], dtype=float32)>\n"
     ]
    }
   ],
   "source": [
    "# One can also assign to invidual elements\n",
    "v[0, 0].assign(2.)\n",
    "print(v)"
   ]
  },
  {
   "cell_type": "markdown",
   "metadata": {},
   "source": [
    "assign_add() and assign_sub() correspond to += and -= "
   ]
  },
  {
   "cell_type": "code",
   "execution_count": 18,
   "metadata": {},
   "outputs": [
    {
     "name": "stdout",
     "output_type": "stream",
     "text": [
      "<tf.Variable 'Variable:0' shape=(3, 1) dtype=float32, numpy=\n",
      "array([[3.],\n",
      "       [2.],\n",
      "       [2.]], dtype=float32)>\n"
     ]
    }
   ],
   "source": [
    "v.assign_add(tf.ones((3,1)))\n",
    "print(v)"
   ]
  },
  {
   "cell_type": "markdown",
   "metadata": {},
   "source": [
    "### TensorFlow Math"
   ]
  },
  {
   "cell_type": "code",
   "execution_count": 27,
   "metadata": {},
   "outputs": [
    {
     "name": "stdout",
     "output_type": "stream",
     "text": [
      "a =  tf.Tensor(\n",
      "[[1. 2.]\n",
      " [3. 4.]], shape=(2, 2), dtype=float32)\n",
      "b =  tf.Tensor(\n",
      "[[ 1.  4.]\n",
      " [ 9. 16.]], shape=(2, 2), dtype=float32)\n",
      "c =  tf.Tensor(\n",
      "[[1.        1.4142135]\n",
      " [1.7320508 2.       ]], shape=(2, 2), dtype=float32)\n",
      "d =  tf.Tensor(\n",
      "[[2.        3.4142137]\n",
      " [4.732051  6.       ]], shape=(2, 2), dtype=float32)\n",
      "e =  tf.Tensor(\n",
      "[[ 4.464102   5.4142137]\n",
      " [ 9.928204  12.2426405]], shape=(2, 2), dtype=float32)\n",
      "e =  tf.Tensor(\n",
      "[[ 4.464102 10.828427]\n",
      " [29.78461  48.970562]], shape=(2, 2), dtype=float32)\n"
     ]
    }
   ],
   "source": [
    "a = tf.constant([[1., 2.],[3., 4.]])\n",
    "print(\"a = \", a)\n",
    "b = tf.square(a)\n",
    "print(\"b = \", b)\n",
    "c = tf.sqrt(a)\n",
    "print(\"c = \", c)\n",
    "d = a + c\n",
    "print(\"d = \", d)\n",
    "e = tf.matmul(a, c)\n",
    "print(\"e = \", e)\n",
    "e *= a\n",
    "print(\"e = \", e)"
   ]
  },
  {
   "cell_type": "markdown",
   "metadata": {},
   "source": [
    "### GradientTape"
   ]
  },
  {
   "cell_type": "markdown",
   "metadata": {},
   "source": [
    "Use GradientTape to get gradient"
   ]
  },
  {
   "cell_type": "code",
   "execution_count": 28,
   "metadata": {},
   "outputs": [
    {
     "name": "stdout",
     "output_type": "stream",
     "text": [
      "Gradient =  tf.Tensor(146.0, shape=(), dtype=float32)\n"
     ]
    }
   ],
   "source": [
    "input = tf.Variable(initial_value=73.)\n",
    "with tf.GradientTape() as tape:\n",
    "    result = tf.square(input)\n",
    "\n",
    "gradient = tape.gradient(result, input)\n",
    "print(\"Gradient = \", gradient)"
   ]
  },
  {
   "cell_type": "markdown",
   "metadata": {},
   "source": [
    "Using GradientTape with constant tensor inputs.  Need to use watch() to have the variable monitored"
   ]
  },
  {
   "cell_type": "code",
   "execution_count": 30,
   "metadata": {},
   "outputs": [
    {
     "name": "stdout",
     "output_type": "stream",
     "text": [
      "Gradient =  tf.Tensor(6.0, shape=(), dtype=float32)\n"
     ]
    }
   ],
   "source": [
    "input_const = tf.constant(3.)\n",
    "with tf.GradientTape() as tape:\n",
    "    tape.watch(input_const)\n",
    "    result = tf.square(input_const)\n",
    "gradient = tape.gradient(result, input_const)\n",
    "print(\"Gradient = \", gradient)"
   ]
  },
  {
   "cell_type": "markdown",
   "metadata": {},
   "source": [
    "Using nested gradient tapes to compute second-order gradients"
   ]
  },
  {
   "cell_type": "code",
   "execution_count": 31,
   "metadata": {},
   "outputs": [
    {
     "name": "stdout",
     "output_type": "stream",
     "text": [
      "Acceleration =  tf.Tensor(9.8, shape=(), dtype=float32)\n"
     ]
    }
   ],
   "source": [
    "time = tf.Variable(0.)\n",
    "with tf.GradientTape() as outer_tape:\n",
    "    with tf.GradientTape() as inner_tape:\n",
    "        position = 4.9 * time ** 2\n",
    "    speed = inner_tape.gradient(position, time)\n",
    "acceleration = outer_tape.gradient(speed, time)\n",
    "print(\"Acceleration = \", acceleration)"
   ]
  },
  {
   "cell_type": "markdown",
   "metadata": {},
   "source": [
    "## Image Tensors"
   ]
  },
  {
   "cell_type": "code",
   "execution_count": 8,
   "metadata": {},
   "outputs": [],
   "source": [
    "from sklearn.datasets import load_sample_images\n",
    "\n",
    "images = load_sample_images()[\"images\"]\n",
    "images = tf.keras.layers.CenterCrop(height=70, width=120)(images)\n",
    "images = tf.keras.layers.Rescaling(scale = 1/ 255)(images)"
   ]
  },
  {
   "cell_type": "code",
   "execution_count": 10,
   "metadata": {},
   "outputs": [
    {
     "name": "stdout",
     "output_type": "stream",
     "text": [
      "images type:  <class 'tensorflow.python.framework.ops.EagerTensor'>\n",
      "image tensor shape:  (2, 70, 120, 3)\n"
     ]
    }
   ],
   "source": [
    "print(\"images type: \", type(images))\n",
    "print(\"image tensor shape: \", images.shape)"
   ]
  },
  {
   "cell_type": "code",
   "execution_count": null,
   "metadata": {},
   "outputs": [],
   "source": []
  }
 ],
 "metadata": {
  "kernelspec": {
   "display_name": ".venv",
   "language": "python",
   "name": "python3"
  },
  "language_info": {
   "codemirror_mode": {
    "name": "ipython",
    "version": 3
   },
   "file_extension": ".py",
   "mimetype": "text/x-python",
   "name": "python",
   "nbconvert_exporter": "python",
   "pygments_lexer": "ipython3",
   "version": "3.12.7"
  }
 },
 "nbformat": 4,
 "nbformat_minor": 2
}
