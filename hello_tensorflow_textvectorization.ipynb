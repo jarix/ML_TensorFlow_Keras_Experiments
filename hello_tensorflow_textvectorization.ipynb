{
 "cells": [
  {
   "cell_type": "markdown",
   "metadata": {},
   "source": [
    "# Hello TensorFlow TextVectorization"
   ]
  },
  {
   "cell_type": "code",
   "execution_count": 1,
   "metadata": {},
   "outputs": [
    {
     "name": "stdout",
     "output_type": "stream",
     "text": [
      "Python Version:  3.12.7 (tags/v3.12.7:0b05ead, Oct  1 2024, 03:06:41) [MSC v.1941 64 bit (AMD64)]\n",
      "Numpy Version:  2.0.2\n",
      "Tensorflow Version:  2.18.0\n"
     ]
    }
   ],
   "source": [
    "# Prerequisites\n",
    "import sys\n",
    "import numpy as np\n",
    "import tensorflow as tf\n",
    "\n",
    "print(\"Python Version: \", sys.version)\n",
    "print(\"Numpy Version: \", np.__version__)\n",
    "print(\"Tensorflow Version: \", tf.__version__)"
   ]
  },
  {
   "cell_type": "markdown",
   "metadata": {},
   "source": [
    "### TensorFlow TextVectorization Layer"
   ]
  },
  {
   "cell_type": "code",
   "execution_count": 2,
   "metadata": {},
   "outputs": [],
   "source": [
    "from tensorflow.keras.layers import TextVectorization\n",
    "\n",
    "text_vectorization = TextVectorization(output_mode=\"int\")"
   ]
  },
  {
   "cell_type": "code",
   "execution_count": 3,
   "metadata": {},
   "outputs": [],
   "source": [
    "dataset = [\"I write, erase, rewrite\", \"Erase again, and then\", \"A poppy blooms.\"]\n",
    "text_vectorization.adapt(dataset)"
   ]
  },
  {
   "cell_type": "markdown",
   "metadata": {},
   "source": [
    "### Display the vocabulary"
   ]
  },
  {
   "cell_type": "code",
   "execution_count": 11,
   "metadata": {},
   "outputs": [
    {
     "name": "stdout",
     "output_type": "stream",
     "text": [
      "Token #0 = ''\n",
      "Token #1 = '[UNK]'\n",
      "Token #2 = 'erase'\n",
      "Token #3 = 'write'\n",
      "Token #4 = 'then'\n",
      "Token #5 = 'rewrite'\n",
      "Token #6 = 'poppy'\n",
      "Token #7 = 'i'\n",
      "Token #8 = 'blooms'\n",
      "Token #9 = 'and'\n",
      "Token #10 = 'again'\n",
      "Token #11 = 'a'\n"
     ]
    }
   ],
   "source": [
    "vocab = text_vectorization.get_vocabulary()\n",
    "for i, word in enumerate(vocab):\n",
    "    print(f\"Token #{i} = '{word}'\")\n"
   ]
  },
  {
   "cell_type": "markdown",
   "metadata": {},
   "source": [
    "Note Token #0 is always not a word and token #1 is out of vocabulary word"
   ]
  },
  {
   "cell_type": "markdown",
   "metadata": {},
   "source": [
    "### Test Encode and Decode"
   ]
  },
  {
   "cell_type": "code",
   "execution_count": 15,
   "metadata": {},
   "outputs": [
    {
     "name": "stdout",
     "output_type": "stream",
     "text": [
      "Encoded text:  tf.Tensor([ 7  3  5  9  1  5 10  4  1  2], shape=(10,), dtype=int64)\n"
     ]
    }
   ],
   "source": [
    "test_text = \"I write, rewrite, and still rewrite again, then happily erase!\"\n",
    "encoded_text = text_vectorization(test_text)\n",
    "print(\"Encoded text: \", encoded_text)"
   ]
  },
  {
   "cell_type": "code",
   "execution_count": 16,
   "metadata": {},
   "outputs": [],
   "source": [
    "inverse_vocab = dict(enumerate(vocab))"
   ]
  },
  {
   "cell_type": "code",
   "execution_count": 17,
   "metadata": {},
   "outputs": [
    {
     "name": "stdout",
     "output_type": "stream",
     "text": [
      "Decoded back:  i write rewrite and [UNK] rewrite again then [UNK] erase\n"
     ]
    }
   ],
   "source": [
    "decoded_text = \" \".join(inverse_vocab[int(i)] for i in encoded_text)\n",
    "print(\"Decoded back: \", decoded_text)"
   ]
  },
  {
   "cell_type": "code",
   "execution_count": null,
   "metadata": {},
   "outputs": [],
   "source": []
  }
 ],
 "metadata": {
  "kernelspec": {
   "display_name": ".venv",
   "language": "python",
   "name": "python3"
  },
  "language_info": {
   "codemirror_mode": {
    "name": "ipython",
    "version": 3
   },
   "file_extension": ".py",
   "mimetype": "text/x-python",
   "name": "python",
   "nbconvert_exporter": "python",
   "pygments_lexer": "ipython3",
   "version": "3.12.7"
  }
 },
 "nbformat": 4,
 "nbformat_minor": 2
}
