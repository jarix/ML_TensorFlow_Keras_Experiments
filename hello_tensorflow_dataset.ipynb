{
 "cells": [
  {
   "cell_type": "markdown",
   "metadata": {},
   "source": [
    "# Hello Tensorflow Dataset Object"
   ]
  },
  {
   "cell_type": "code",
   "execution_count": 2,
   "metadata": {},
   "outputs": [
    {
     "name": "stdout",
     "output_type": "stream",
     "text": [
      "Python Version:  3.12.7 (tags/v3.12.7:0b05ead, Oct  1 2024, 03:06:41) [MSC v.1941 64 bit (AMD64)]\n",
      "Numpy Version:  2.0.2\n",
      "Tensorflow Version:  2.18.0\n"
     ]
    }
   ],
   "source": [
    "# Prerequisites\n",
    "import sys\n",
    "import numpy as np\n",
    "import tensorflow as tf\n",
    "\n",
    "print(\"Python Version: \", sys.version)\n",
    "print(\"Numpy Version: \", np.__version__)\n",
    "print(\"Tensorflow Version: \", tf.__version__)"
   ]
  },
  {
   "cell_type": "markdown",
   "metadata": {},
   "source": [
    "### Create a dummt dataset"
   ]
  },
  {
   "cell_type": "code",
   "execution_count": 4,
   "metadata": {},
   "outputs": [],
   "source": [
    "random_nums = np.random.normal(size=(1000, 16))\n",
    "dataset = tf.data.Dataset.from_tensor_slices(random_nums)"
   ]
  },
  {
   "cell_type": "markdown",
   "metadata": {},
   "source": [
    "- A Dataset object is an iterator: it can be used in a for loop.\n",
    "- It will typically return batches of input data and labels.\n",
    "- Dataset object can be passed directly to the fit() method of a Keras model."
   ]
  },
  {
   "cell_type": "markdown",
   "metadata": {},
   "source": [
    "### Get individual elements from the dataset"
   ]
  },
  {
   "cell_type": "code",
   "execution_count": 7,
   "metadata": {},
   "outputs": [
    {
     "name": "stdout",
     "output_type": "stream",
     "text": [
      "element 0,  shape (16,)\n",
      "tf.Tensor(\n",
      "[ 2.32482854 -0.97628267 -2.1444387  -0.96721843 -0.82478339  0.78164702\n",
      "  0.46795164  0.02952116  0.53249777  0.372321   -0.41217289  0.89604719\n",
      " -1.15221669 -1.5592622  -0.76829803 -2.32069679], shape=(16,), dtype=float64)\n",
      "element 1,  shape (16,)\n",
      "tf.Tensor(\n",
      "[ 0.01179703  1.81788228  0.30046066 -1.08725603  1.32618044 -0.23054567\n",
      "  1.48306061 -0.08806151 -1.08739926  0.33466622 -0.09316201  0.83398946\n",
      " -2.31712005  0.43850538  0.90371852  0.57565794], shape=(16,), dtype=float64)\n",
      "element 2,  shape (16,)\n",
      "tf.Tensor(\n",
      "[ 0.44171207 -0.47125307 -0.45895097  0.32425092  0.46424824  0.50946807\n",
      " -1.01871641 -0.52369184  0.28022186  1.55879441  1.29484276  0.18634811\n",
      "  0.14721995 -0.84382738  2.27866848  0.58625029], shape=(16,), dtype=float64)\n",
      "element 3,  shape (16,)\n",
      "tf.Tensor(\n",
      "[-0.46456532  0.22453846  1.0026874   0.87769787  0.21589293  1.30149012\n",
      " -0.07568179  0.53798744 -0.09044611 -0.39137423 -0.03003235  0.90897996\n",
      " -1.02395886  0.03057993 -0.30969018 -1.71583259], shape=(16,), dtype=float64)\n",
      "element 4,  shape (16,)\n",
      "tf.Tensor(\n",
      "[ 0.59294698  0.10166538  1.24614385 -0.18956605 -1.15347559  0.09965931\n",
      " -0.04939325 -0.05292091 -1.39951088 -0.91228253 -0.49599527 -1.9135439\n",
      "  0.82024598 -1.07385216 -0.35873888 -1.33134154], shape=(16,), dtype=float64)\n",
      "element 5,  shape (16,)\n",
      "tf.Tensor(\n",
      "[ 0.00206101  0.32787175 -1.23446491 -0.1345247  -1.91856446  0.82679795\n",
      "  1.7585966  -0.90169969 -1.63667885  0.0750152   0.46273341  0.37474725\n",
      "  1.09226768 -0.51485581  0.89736561 -1.09664129], shape=(16,), dtype=float64)\n"
     ]
    }
   ],
   "source": [
    "for i, element in enumerate(dataset):\n",
    "    print(f\"element {i},  shape {element.shape}\")\n",
    "    print(element)\n",
    "    if i > 4:\n",
    "        break"
   ]
  },
  {
   "cell_type": "markdown",
   "metadata": {},
   "source": [
    "### Reshape with map"
   ]
  },
  {
   "cell_type": "code",
   "execution_count": 11,
   "metadata": {},
   "outputs": [
    {
     "name": "stdout",
     "output_type": "stream",
     "text": [
      "element 0,  shape (4, 4)\n",
      "element 1,  shape (4, 4)\n",
      "element 2,  shape (4, 4)\n",
      "element 3,  shape (4, 4)\n",
      "element 4,  shape (4, 4)\n",
      "element 5,  shape (4, 4)\n"
     ]
    }
   ],
   "source": [
    "ds_reshaped = dataset.map(lambda x: tf.reshape(x, (4, 4)))\n",
    "for i, element in enumerate(ds_reshaped):\n",
    "    print(f\"element {i},  shape {element.shape}\")\n",
    "    if i > 4:\n",
    "        break"
   ]
  },
  {
   "cell_type": "markdown",
   "metadata": {},
   "source": [
    "### Get batches of data"
   ]
  },
  {
   "cell_type": "code",
   "execution_count": 10,
   "metadata": {},
   "outputs": [
    {
     "name": "stdout",
     "output_type": "stream",
     "text": [
      "element 0,  shape (32, 16)\n",
      "element 1,  shape (32, 16)\n",
      "element 2,  shape (32, 16)\n",
      "element 3,  shape (32, 16)\n",
      "element 4,  shape (32, 16)\n",
      "element 5,  shape (32, 16)\n"
     ]
    }
   ],
   "source": [
    "ds_batches = dataset.batch(32)\n",
    "for i, element in enumerate(ds_batches):\n",
    "    print(f\"element {i},  shape {element.shape}\")\n",
    "    if i > 4:\n",
    "        break"
   ]
  },
  {
   "cell_type": "code",
   "execution_count": null,
   "metadata": {},
   "outputs": [],
   "source": []
  }
 ],
 "metadata": {
  "kernelspec": {
   "display_name": ".venv",
   "language": "python",
   "name": "python3"
  },
  "language_info": {
   "codemirror_mode": {
    "name": "ipython",
    "version": 3
   },
   "file_extension": ".py",
   "mimetype": "text/x-python",
   "name": "python",
   "nbconvert_exporter": "python",
   "pygments_lexer": "ipython3",
   "version": "3.12.7"
  }
 },
 "nbformat": 4,
 "nbformat_minor": 2
}
